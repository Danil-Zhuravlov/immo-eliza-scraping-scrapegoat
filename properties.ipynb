{
 "cells": [
  {
   "cell_type": "code",
   "execution_count": 160,
   "metadata": {},
   "outputs": [],
   "source": [
    "import requests\n",
    "from bs4 import BeautifulSoup\n"
   ]
  },
  {
   "cell_type": "code",
   "execution_count": 161,
   "metadata": {},
   "outputs": [],
   "source": [
    "from bs4 import BeautifulSoup\n",
    "import json\n",
    "\n",
    "url = \"https://www.immoweb.be/en/classified/villa/for-sale/overijse/3090/11150716\"\n",
    "r = requests.get(url).text\n",
    "soup = BeautifulSoup(r, \"html.parser\")\n",
    "head_tag = soup.head\n",
    "script_tag = head_tag.find('script', string=lambda t: 'window.dataLayer' in t)\n",
    "\n",
    "\n",
    "# The rest of your code remains the same\n",
    "data_string = script_tag.string.split('window.dataLayer = ')[1].split(';')[0]\n",
    "#print(data_string)\n",
    "data_json = json.loads(data_string)\n",
    "classified_info = data_json[0]['classified']\n"
   ]
  },
  {
   "cell_type": "code",
   "execution_count": 162,
   "metadata": {},
   "outputs": [
    {
     "name": "stdout",
     "output_type": "stream",
     "text": [
      "{'id': '11150716', 'type': 'house', 'subtype': 'villa', 'price': '849000', 'transactionType': 'for sale', 'zip': '3090', 'visualisationOption': 'xl', 'kitchen': {'type': 'usa installed'}, 'building': {'constructionYear': '1990', 'condition': 'as new'}, 'energy': {'heatingType': 'gas'}, 'certificates': {'primaryEnergyConsumptionLevel': '210'}, 'bedroom': {'count': '4'}, 'land': {'surface': '875'}, 'atticExists': '', 'basementExists': '', 'outdoor': {'garden': {'surface': '350'}, 'terrace': {'exists': 'true'}}, 'specificities': {'SME': {'office': {'exists': 'true'}}}, 'wellnessEquipment': {'hasSwimmingPool': ''}, 'parking': {'parkingSpaceCount': {'indoor': '2', 'outdoor': '3'}}, 'condition': {'isNewlyBuilt': ''}}\n"
     ]
    }
   ],
   "source": [
    "#print(json.dumps(data_json, indent=4))\n",
    "print(classified_info)"
   ]
  },
  {
   "cell_type": "code",
   "execution_count": 163,
   "metadata": {},
   "outputs": [
    {
     "name": "stdout",
     "output_type": "stream",
     "text": [
      "Classified ID: 11150716\n",
      "Price: 849000\n",
      "Type: house\n",
      "Subtype: villa\n",
      "{'id': '11150716', 'type': 'house', 'subtype': 'villa', 'price': '849000', 'transactionType': 'for sale', 'zip': '3090', 'visualisationOption': 'xl', 'kitchen': {'type': 'usa installed'}, 'building': {'constructionYear': '1990', 'condition': 'as new'}, 'energy': {'heatingType': 'gas'}, 'certificates': {'primaryEnergyConsumptionLevel': '210'}, 'bedroom': {'count': '4'}, 'land': {'surface': '875'}, 'atticExists': '', 'basementExists': '', 'outdoor': {'garden': {'surface': '350'}, 'terrace': {'exists': 'true'}}, 'specificities': {'SME': {'office': {'exists': 'true'}}}, 'wellnessEquipment': {'hasSwimmingPool': ''}, 'parking': {'parkingSpaceCount': {'indoor': '2', 'outdoor': '3'}}, 'condition': {'isNewlyBuilt': ''}}\n"
     ]
    }
   ],
   "source": [
    "print(\"Classified ID:\", classified_info['id'])\n",
    "print(\"Price:\", classified_info['price'])\n",
    "print(\"Type:\", classified_info['type'])\n",
    "print(\"Subtype:\", classified_info[\"subtype\"])\n",
    "print(classified_info)\n"
   ]
  },
  {
   "cell_type": "code",
   "execution_count": 164,
   "metadata": {},
   "outputs": [
    {
     "name": "stdout",
     "output_type": "stream",
     "text": [
      "Property ID: 11150716\n",
      "Postal Code: 3090\n",
      "Price: 849000\n",
      "Type of Property: house\n",
      "Subtype of Property: villa\n",
      "Type of Sale: for sale\n",
      "Number of Bedrooms: 4\n",
      "Equipped Kitchen: 0\n",
      "Surface of Good (m²): 875\n",
      "Swimming Pool: 0\n",
      "State of Building: as new\n"
     ]
    }
   ],
   "source": [
    "property_id = classified_info['id']\n",
    "postal_code = classified_info['zip']\n",
    "price = classified_info['price']\n",
    "type_of_property = classified_info['type']\n",
    "subtype_of_property = classified_info['subtype']\n",
    "type_of_sale = classified_info['transactionType']\n",
    "number_of_bedrooms = classified_info.get('bedroom', {}).get('count', 'Not available')\n",
    "equipped_kitchen = 1 if classified_info.get('kitchen', {}).get('type') == 'installed' else 0\n",
    "surface_of_good = classified_info.get('land', {}).get('surface', 'Not available')\n",
    "swimming_pool = 1 if classified_info.get('wellnessEquipment', {}).get('hasSwimmingPool') == 'true' else 0\n",
    "state_of_building = classified_info.get('building', {}).get('condition', 'Not available')\n",
    "\n",
    "# Printing extracted information\n",
    "print(f\"Property ID: {property_id}\")\n",
    "print(f\"Postal Code: {postal_code}\")\n",
    "print(f\"Price: {price}\")\n",
    "print(f\"Type of Property: {type_of_property}\")\n",
    "print(f\"Subtype of Property: {subtype_of_property}\")\n",
    "print(f\"Type of Sale: {type_of_sale}\")\n",
    "print(f\"Number of Bedrooms: {number_of_bedrooms}\")\n",
    "print(f\"Equipped Kitchen: {equipped_kitchen}\")\n",
    "print(f\"Surface of Good (m²): {surface_of_good}\")\n",
    "print(f\"Swimming Pool: {swimming_pool}\")\n",
    "print(f\"State of Building: {state_of_building}\")"
   ]
  },
  {
   "cell_type": "code",
   "execution_count": null,
   "metadata": {},
   "outputs": [],
   "source": []
  }
 ],
 "metadata": {
  "kernelspec": {
   "display_name": "venv",
   "language": "python",
   "name": "python3"
  },
  "language_info": {
   "codemirror_mode": {
    "name": "ipython",
    "version": 3
   },
   "file_extension": ".py",
   "mimetype": "text/x-python",
   "name": "python",
   "nbconvert_exporter": "python",
   "pygments_lexer": "ipython3",
   "version": "3.12.1"
  }
 },
 "nbformat": 4,
 "nbformat_minor": 2
}
